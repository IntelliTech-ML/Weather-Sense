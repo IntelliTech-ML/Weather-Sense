{
 "cells": [
  {
   "cell_type": "code",
   "execution_count": 16,
   "id": "1a95cb27-88eb-4555-a044-b9deffb97561",
   "metadata": {},
   "outputs": [
    {
     "name": "stdout",
     "output_type": "stream",
     "text": [
      "Model accuracy: 93.00%\n"
     ]
    }
   ],
   "source": [
    "import pandas as pd\n",
    "from sklearn.model_selection import train_test_split\n",
    "from sklearn.ensemble import RandomForestClassifier\n",
    "from sklearn.preprocessing import LabelEncoder\n",
    "import pickle\n",
    "\n",
    "# Load the dataset\n",
    "df = pd.read_csv(\"weather_data_balanced.csv\")\n",
    "\n",
    "# Initialize LabelEncoder\n",
    "encoder = LabelEncoder()\n",
    "\n",
    "# Fit and transform the 'Weather_Condition' column\n",
    "encoder.fit(df[\"Weather_Condition\"])\n",
    "\n",
    "df[\"Weather_Encoded\"] = encoder.transform(df[\"Weather_Condition\"])\n",
    "\n",
    "# Define the feature set (X) and target variable (y)\n",
    "X = df[[\"Temperature\", \"Humidity\", \"Air_Pressure\", \"Wind_Speed\"]]\n",
    "y = df[\"Weather_Encoded\"]\n",
    "\n",
    "# Split the data into training and test sets\n",
    "X_train, X_test, y_train, y_test = train_test_split(X, y, test_size=0.2, random_state=42)\n",
    "\n",
    "# Initialize and train the model\n",
    "model = RandomForestClassifier(random_state=42)\n",
    "model.fit(X_train, y_train)\n",
    "\n",
    "with open(\"label_encoder.pkl\", \"wb\") as encoder_file:\n",
    "    pickle.dump(encoder, encoder_file)\n",
    "\n",
    "# Check the accuracy of the model\n",
    "accuracy = model.score(X_test, y_test)\n",
    "print(f\"Model accuracy: {accuracy * 100:.2f}%\")\n"
   ]
  },
  {
   "cell_type": "code",
   "execution_count": null,
   "id": "daac9a52-d74f-462a-8ffc-0aaed75c33e8",
   "metadata": {},
   "outputs": [],
   "source": [
    "\n"
   ]
  },
  {
   "cell_type": "code",
   "execution_count": 14,
   "id": "1d6f193a-2256-45ec-8f66-a175173bf96c",
   "metadata": {},
   "outputs": [
    {
     "name": "stdout",
     "output_type": "stream",
     "text": [
      "Model saved successfully!\n"
     ]
    }
   ],
   "source": [
    "import pickle\n",
    "from sklearn.ensemble import RandomForestClassifier\n",
    "\n",
    "# Assume model is trained\n",
    "with open(\"random_forest_model.pkl\", \"wb\") as file:\n",
    "    pickle.dump(model, file)\n",
    "\n",
    "print(\"Model saved successfully!\")\n"
   ]
  },
  {
   "cell_type": "code",
   "execution_count": 12,
   "id": "c0a2785e-b466-45cf-a89b-624a63cc8da4",
   "metadata": {},
   "outputs": [
    {
     "name": "stdout",
     "output_type": "stream",
     "text": [
      "Loaded Model Type: <class 'numpy.ndarray'>\n"
     ]
    }
   ],
   "source": [
    "import pickle\n",
    "\n",
    "with open(\"random_forest_model.pkl\", \"rb\") as file:\n",
    "    model = pickle.load(file)\n",
    "    print(\"Loaded Model Type:\", type(model))\n"
   ]
  },
  {
   "cell_type": "code",
   "execution_count": null,
   "id": "f9a821dd-e56e-43fb-812f-24af36856b97",
   "metadata": {},
   "outputs": [],
   "source": []
  }
 ],
 "metadata": {
  "kernelspec": {
   "display_name": "Python 3 (ipykernel)",
   "language": "python",
   "name": "python3"
  },
  "language_info": {
   "codemirror_mode": {
    "name": "ipython",
    "version": 3
   },
   "file_extension": ".py",
   "mimetype": "text/x-python",
   "name": "python",
   "nbconvert_exporter": "python",
   "pygments_lexer": "ipython3",
   "version": "3.12.7"
  }
 },
 "nbformat": 4,
 "nbformat_minor": 5
}
